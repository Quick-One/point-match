{
 "cells": [
  {
   "cell_type": "code",
   "execution_count": null,
   "metadata": {},
   "outputs": [],
   "source": [
    "from pathlib import Path\n",
    "import matplotlib.pyplot as plt\n",
    "import numpy as np"
   ]
  },
  {
   "cell_type": "code",
   "execution_count": null,
   "metadata": {},
   "outputs": [],
   "source": [
    "PATH       : Path = Path(\"PATH TO YOUR DATA\")     # directory of the images\n",
    "IMG_FORMAT : str  = \"EXTENSION OF YOUR DATA\"      # e.g. jpg/jpeg/png..."
   ]
  },
  {
   "cell_type": "code",
   "execution_count": null,
   "metadata": {},
   "outputs": [],
   "source": [
    "# check if points.npy is present in path\n",
    "if not (PATH / \"points.npy\").exists():\n",
    "    raise Exception(\"points.npy not found in path\")"
   ]
  },
  {
   "cell_type": "code",
   "execution_count": null,
   "metadata": {},
   "outputs": [],
   "source": [
    "# # sample values\n",
    "PATH = Path.cwd()\n",
    "IMG_FORMAT = \"jpg\""
   ]
  },
  {
   "cell_type": "code",
   "execution_count": null,
   "metadata": {},
   "outputs": [],
   "source": [
    "IMAGES = sorted([x for x in PATH.iterdir() if x.suffix == f\".{IMG_FORMAT}\"])\n",
    "colors = ['red', 'green', 'blue', 'yellow',\n",
    "          'orange', 'purple', 'pink', 'brown']\n",
    "\n",
    "coords = np.load(str(PATH/\"points.npy\"))\n",
    "\n",
    "fig, ax = plt.subplots(1, len(IMAGES))\n",
    "for i in range(len(IMAGES)):\n",
    "    img = plt.imread(str(IMAGES[i]))\n",
    "    ax[i].imshow(img)\n",
    "\n",
    "for ptind in range(coords.shape[0]):\n",
    "    for imind in range(len(IMAGES)):\n",
    "        x,y = coords[ptind, imind, :]\n",
    "        color = colors[ptind % len(colors)]\n",
    "        ax[imind].scatter(x, y, c=color, s=10, marker = 'x')\n",
    "        ax[imind].text(x, y, str(ptind+1), c=color, fontsize=8)"
   ]
  }
 ],
 "metadata": {
  "kernelspec": {
   "display_name": "Python 3",
   "language": "python",
   "name": "python3"
  },
  "language_info": {
   "codemirror_mode": {
    "name": "ipython",
    "version": 3
   },
   "file_extension": ".py",
   "mimetype": "text/x-python",
   "name": "python",
   "nbconvert_exporter": "python",
   "pygments_lexer": "ipython3",
   "version": "3.9.13"
  }
 },
 "nbformat": 4,
 "nbformat_minor": 2
}
