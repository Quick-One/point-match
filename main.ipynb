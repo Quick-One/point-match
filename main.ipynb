{
 "cells": [
  {
   "cell_type": "code",
   "execution_count": null,
   "metadata": {},
   "outputs": [],
   "source": [
    "from pathlib import Path\n",
    "import matplotlib.pyplot as plt\n",
    "import numpy as np\n",
    "\n",
    "# change to qt5 or other backend if tkinter is not installed\n",
    "%matplotlib tk"
   ]
  },
  {
   "cell_type": "markdown",
   "metadata": {},
   "source": [
    "### Usage\n",
    "- Change the `PATH` variable to the path of the folder containing the images.\n",
    "- Change the `IMG_FORMAT` variable to the format of the images. (e.g. `jpg`, `png`, etc.)\n",
    "- Change the `POINTS` variable to the number of points you want to make.\n",
    "\n",
    "### Controls\n",
    "Use **RIGHT CLICK** to make a point.\n",
    "\n",
    "### Ouput\n",
    "Creates a numpy array on shape `(POINTS x NUMBER_OF_IMAGES x 2)` in the same folder as the images."
   ]
  },
  {
   "cell_type": "code",
   "execution_count": null,
   "metadata": {},
   "outputs": [],
   "source": [
    "PATH       : Path = Path(\"PATH TO YOUR DATA\")     # directory of the images\n",
    "IMG_FORMAT : str  = \"EXTENSION OF YOUR DATA\"      # e.g. jpg/jpeg/png...\n",
    "POINTS     : int  = NUMBER_OF_POINTS              # number of points "
   ]
  },
  {
   "cell_type": "code",
   "execution_count": null,
   "metadata": {},
   "outputs": [],
   "source": [
    "# # sample values\n",
    "# PATH = Path.cwd()\n",
    "# IMG_FORMAT = \"jpg\"\n",
    "# POINTS = 3"
   ]
  },
  {
   "cell_type": "code",
   "execution_count": null,
   "metadata": {},
   "outputs": [],
   "source": [
    "# safeguard to prevent overwriting of previously generated points\n",
    "if (PATH/\"points.npy\").exists():\n",
    "    raise Exception(\"points.npy already exists. Delete the points.npy file to start over.\")"
   ]
  },
  {
   "cell_type": "code",
   "execution_count": null,
   "metadata": {},
   "outputs": [],
   "source": [
    "IMAGES = sorted([x for x in PATH.iterdir() if x.suffix == f\".{IMG_FORMAT}\"])\n",
    "\n",
    "colors = ['red', 'green', 'blue', 'yellow',\n",
    "          'orange', 'purple', 'pink', 'brown']\n",
    "fig, ax = plt.subplots(nrows=1, ncols=len(IMAGES))\n",
    "for i, img in enumerate(IMAGES):\n",
    "    ax[i].imshow(plt.imread(img.absolute()))\n",
    "\n",
    "ptind    = 0\n",
    "imgind   = 0\n",
    "# (POINTS X NUMBER OF IMAGES X 2) array\n",
    "COORDS = np.zeros((POINTS, len(IMAGES), 2), dtype=np.int64)\n",
    "\n",
    "def onclick(event):\n",
    "    \n",
    "    global ptind\n",
    "    global imgind\n",
    "\n",
    "    if event.xdata == None or event.ydata == None: return # click outside of image\n",
    "    if event.button != 3: return                          # ensure right click\n",
    "    if event.inaxes != ax[imgind]: return                 # ensure click on the correct image\n",
    "\n",
    "    ix, iy = event.xdata, event.ydata\n",
    "    COORDS[ptind][imgind][0] = round(ix)\n",
    "    COORDS[ptind][imgind][1] = round(iy)\n",
    "\n",
    "    color = colors[ptind % len(colors)]\n",
    "    ax[imgind].scatter(ix, iy, color=color, marker='x', s=10)\n",
    "    ax[imgind].text(ix, iy, f\"{ptind+1}\", color=color, fontsize=10)\n",
    "    \n",
    "    if imgind == len(IMAGES) - 1: ptind += 1\n",
    "    imgind = (imgind + 1) % len(IMAGES)\n",
    "    \n",
    "    plt.draw()\n",
    "    plt.pause(0.01)\n",
    "    \n",
    "    if ptind == POINTS:\n",
    "        points_path = PATH/\"points.npy\"\n",
    "        np.save(str(points_path), COORDS)\n",
    "        print(f\"Saved points to {points_path.absolute()}. You can close the window now.\")\n",
    "        fig.canvas.mpl_disconnect(cid)\n",
    "\n",
    "cid = fig.canvas.mpl_connect('button_press_event', onclick)"
   ]
  },
  {
   "cell_type": "code",
   "execution_count": null,
   "metadata": {},
   "outputs": [],
   "source": []
  }
 ],
 "metadata": {
  "kernelspec": {
   "display_name": "Python 3",
   "language": "python",
   "name": "python3"
  },
  "language_info": {
   "codemirror_mode": {
    "name": "ipython",
    "version": 3
   },
   "file_extension": ".py",
   "mimetype": "text/x-python",
   "name": "python",
   "nbconvert_exporter": "python",
   "pygments_lexer": "ipython3",
   "version": "3.9.13"
  }
 },
 "nbformat": 4,
 "nbformat_minor": 2
}
